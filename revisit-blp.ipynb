{
 "cells": [
  {
   "cell_type": "code",
   "execution_count": null,
   "metadata": {},
   "outputs": [],
   "source": [
    "from xbbg import blp"
   ]
  },
  {
   "cell_type": "code",
   "execution_count": null,
   "metadata": {},
   "outputs": [],
   "source": [
    "blp.bdh(tickers=['FNCL 2.5 2/22 MTGE','T 2 08/15/51 GOVT'], flds=['yl017'],\n",
    "        start_date='2022-01-01', end_date='2022-01-14')"
   ]
  },
  {
   "cell_type": "code",
   "execution_count": null,
   "metadata": {},
   "outputs": [],
   "source": [
    "blp.bdh(tickers='SAN SM Equity', flds=['last_price','country_of_largest_revenue'],\n",
    "       start_date='2021-12-31', end_date='2022-01-14')"
   ]
  },
  {
   "cell_type": "code",
   "execution_count": null,
   "metadata": {},
   "outputs": [],
   "source": [
    "blp.bdh(\n",
    "    tickers=['ARKK US Equity','NDX INDEX','SPX INDEX'], flds=['last_price'],\n",
    "    start_date='2021-12-31', end_date='2022-01-14')"
   ]
  },
  {
   "cell_type": "code",
   "execution_count": null,
   "metadata": {},
   "outputs": [],
   "source": [
    "blp.bdp('TGT 3.625 04/15/2046 Corp', ['yas bond px', 'yas bond yld'], yas_bond_yld='2.861')"
   ]
  }
 ],
 "metadata": {
  "kernelspec": {
   "display_name": "Python 3",
   "language": "python",
   "name": "python3"
  },
  "language_info": {
   "codemirror_mode": {
    "name": "ipython",
    "version": 3
   },
   "file_extension": ".py",
   "mimetype": "text/x-python",
   "name": "python",
   "nbconvert_exporter": "python",
   "pygments_lexer": "ipython3",
   "version": "3.7.6"
  }
 },
 "nbformat": 4,
 "nbformat_minor": 4
}
